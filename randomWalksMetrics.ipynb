{
 "cells": [
  {
   "cell_type": "markdown",
   "id": "5a96b8e0-c70e-4450-99e8-3b8f024efa7a",
   "metadata": {},
   "source": [
    "# Homework 3\n",
    "\n",
    "**Name:** Silvia Ivonne Velázquez Ramírez\n",
    "\n",
    "**e-mail:** silvia.velazquez7499@alumnos.udg.mx"
   ]
  },
  {
   "cell_type": "markdown",
   "id": "82ba29f0-d3d3-477e-8769-9c7d1f184aee",
   "metadata": {},
   "source": [
    "# Modules"
   ]
  },
  {
   "cell_type": "code",
   "execution_count": 1,
   "id": "49bc4d47-814b-4807-84ba-d93a9548ae56",
   "metadata": {},
   "outputs": [],
   "source": [
    "#Modules here"
   ]
  },
  {
   "cell_type": "markdown",
   "id": "6acaa016-598d-45bd-baf2-f33746b3737c",
   "metadata": {},
   "source": [
    "# Activity 1: Path length - BM1 vs BM2 vs CRW"
   ]
  },
  {
   "cell_type": "code",
   "execution_count": 2,
   "id": "5e289db6-d502-4b19-92c8-2fca604df020",
   "metadata": {},
   "outputs": [],
   "source": [
    "# Activity 1 here"
   ]
  },
  {
   "cell_type": "markdown",
   "id": "1845e962-5e80-46c1-b383-489a8ed75b11",
   "metadata": {},
   "source": [
    "# Activity 2: Mean squared displacement - BM vs CRW"
   ]
  },
  {
   "cell_type": "code",
   "execution_count": 3,
   "id": "e4c91529-b0fa-43a0-b15f-a7489e7da95a",
   "metadata": {},
   "outputs": [],
   "source": [
    "#Activity 2 here"
   ]
  },
  {
   "cell_type": "markdown",
   "id": "32da1a08-b2b9-4c0f-ba5d-f85e62dd71e4",
   "metadata": {},
   "source": [
    "# Activity 3: Turning angle distribution - Histograms + Curves"
   ]
  },
  {
   "cell_type": "code",
   "execution_count": 4,
   "id": "480f4a64-8743-493d-a5b3-030406df5079",
   "metadata": {},
   "outputs": [],
   "source": [
    "#Activity 3 here"
   ]
  },
  {
   "cell_type": "markdown",
   "id": "05746df0-1417-4a44-ae07-7be63c9497ff",
   "metadata": {},
   "source": [
    "# Activity 4: Step length distributions - Histograms + Curves"
   ]
  },
  {
   "cell_type": "code",
   "execution_count": 5,
   "id": "be669870-bfcb-473c-b24e-4ee7589f9deb",
   "metadata": {},
   "outputs": [],
   "source": [
    "#Activity 4 here"
   ]
  },
  {
   "cell_type": "code",
   "execution_count": null,
   "id": "216431d5-b309-4f66-85b0-12f4055b51a2",
   "metadata": {},
   "outputs": [],
   "source": []
  }
 ],
 "metadata": {
  "kernelspec": {
   "display_name": "Python 3 (ipykernel)",
   "language": "python",
   "name": "python3"
  },
  "language_info": {
   "codemirror_mode": {
    "name": "ipython",
    "version": 3
   },
   "file_extension": ".py",
   "mimetype": "text/x-python",
   "name": "python",
   "nbconvert_exporter": "python",
   "pygments_lexer": "ipython3",
   "version": "3.13.2"
  }
 },
 "nbformat": 4,
 "nbformat_minor": 5
}
